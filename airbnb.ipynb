{
 "cells": [
  {
   "cell_type": "markdown",
   "metadata": {},
   "source": [
    "# Business Understanding\n",
    "#### From the data provided, I would like to extract some conclusions that would help people in the Seattle area to better utilize property with Airbnb. If a user would like to invest in property in order to rent it out with Airbnb, how can the data could help him  understand how to set the highest price? How can he judge if an investment in property in a specific area could be profitable based on potential earnings he coud acquire? "
   ]
  },
  {
   "cell_type": "markdown",
   "metadata": {},
   "source": [
    "# Data Understanding\n",
    "#### Based on the data that Airbnb has provided to Udacity students I will attempt to answer the following question:                            1) What are the characteristics of a home that influence its price most and what is the importance of each characteristic.                      2) What is the average price of a home based on the amount of people it can accommodate?                                                                       3) What are the top 10 neighbourhoods in regards with the mean price a home can have?"
   ]
  },
  {
   "cell_type": "markdown",
   "metadata": {},
   "source": [
    "# 1. Prepare Data\n",
    "#### In this section data must be assessed and cleaned before their analysis and modeling begins."
   ]
  },
  {
   "cell_type": "markdown",
   "metadata": {},
   "source": [
    "## 1.1 Assess Data"
   ]
  },
  {
   "cell_type": "code",
   "execution_count": 1,
   "metadata": {},
   "outputs": [
    {
     "data": {
      "text/html": [
       "<div>\n",
       "<style scoped>\n",
       "    .dataframe tbody tr th:only-of-type {\n",
       "        vertical-align: middle;\n",
       "    }\n",
       "\n",
       "    .dataframe tbody tr th {\n",
       "        vertical-align: top;\n",
       "    }\n",
       "\n",
       "    .dataframe thead th {\n",
       "        text-align: right;\n",
       "    }\n",
       "</style>\n",
       "<table border=\"1\" class=\"dataframe\">\n",
       "  <thead>\n",
       "    <tr style=\"text-align: right;\">\n",
       "      <th></th>\n",
       "      <th>id</th>\n",
       "      <th>listing_url</th>\n",
       "      <th>scrape_id</th>\n",
       "      <th>last_scraped</th>\n",
       "      <th>name</th>\n",
       "      <th>summary</th>\n",
       "      <th>space</th>\n",
       "      <th>description</th>\n",
       "      <th>experiences_offered</th>\n",
       "      <th>neighborhood_overview</th>\n",
       "      <th>...</th>\n",
       "      <th>review_scores_value</th>\n",
       "      <th>requires_license</th>\n",
       "      <th>license</th>\n",
       "      <th>jurisdiction_names</th>\n",
       "      <th>instant_bookable</th>\n",
       "      <th>cancellation_policy</th>\n",
       "      <th>require_guest_profile_picture</th>\n",
       "      <th>require_guest_phone_verification</th>\n",
       "      <th>calculated_host_listings_count</th>\n",
       "      <th>reviews_per_month</th>\n",
       "    </tr>\n",
       "  </thead>\n",
       "  <tbody>\n",
       "    <tr>\n",
       "      <td>0</td>\n",
       "      <td>241032</td>\n",
       "      <td>https://www.airbnb.com/rooms/241032</td>\n",
       "      <td>20160104002432</td>\n",
       "      <td>2016-01-04</td>\n",
       "      <td>Stylish Queen Anne Apartment</td>\n",
       "      <td>NaN</td>\n",
       "      <td>Make your self at home in this charming one-be...</td>\n",
       "      <td>Make your self at home in this charming one-be...</td>\n",
       "      <td>none</td>\n",
       "      <td>NaN</td>\n",
       "      <td>...</td>\n",
       "      <td>10.0</td>\n",
       "      <td>f</td>\n",
       "      <td>NaN</td>\n",
       "      <td>WASHINGTON</td>\n",
       "      <td>f</td>\n",
       "      <td>moderate</td>\n",
       "      <td>f</td>\n",
       "      <td>f</td>\n",
       "      <td>2</td>\n",
       "      <td>4.07</td>\n",
       "    </tr>\n",
       "    <tr>\n",
       "      <td>1</td>\n",
       "      <td>953595</td>\n",
       "      <td>https://www.airbnb.com/rooms/953595</td>\n",
       "      <td>20160104002432</td>\n",
       "      <td>2016-01-04</td>\n",
       "      <td>Bright &amp; Airy Queen Anne Apartment</td>\n",
       "      <td>Chemically sensitive? We've removed the irrita...</td>\n",
       "      <td>Beautiful, hypoallergenic apartment in an extr...</td>\n",
       "      <td>Chemically sensitive? We've removed the irrita...</td>\n",
       "      <td>none</td>\n",
       "      <td>Queen Anne is a wonderful, truly functional vi...</td>\n",
       "      <td>...</td>\n",
       "      <td>10.0</td>\n",
       "      <td>f</td>\n",
       "      <td>NaN</td>\n",
       "      <td>WASHINGTON</td>\n",
       "      <td>f</td>\n",
       "      <td>strict</td>\n",
       "      <td>t</td>\n",
       "      <td>t</td>\n",
       "      <td>6</td>\n",
       "      <td>1.48</td>\n",
       "    </tr>\n",
       "    <tr>\n",
       "      <td>2</td>\n",
       "      <td>3308979</td>\n",
       "      <td>https://www.airbnb.com/rooms/3308979</td>\n",
       "      <td>20160104002432</td>\n",
       "      <td>2016-01-04</td>\n",
       "      <td>New Modern House-Amazing water view</td>\n",
       "      <td>New modern house built in 2013.  Spectacular s...</td>\n",
       "      <td>Our house is modern, light and fresh with a wa...</td>\n",
       "      <td>New modern house built in 2013.  Spectacular s...</td>\n",
       "      <td>none</td>\n",
       "      <td>Upper Queen Anne is a charming neighborhood fu...</td>\n",
       "      <td>...</td>\n",
       "      <td>10.0</td>\n",
       "      <td>f</td>\n",
       "      <td>NaN</td>\n",
       "      <td>WASHINGTON</td>\n",
       "      <td>f</td>\n",
       "      <td>strict</td>\n",
       "      <td>f</td>\n",
       "      <td>f</td>\n",
       "      <td>2</td>\n",
       "      <td>1.15</td>\n",
       "    </tr>\n",
       "    <tr>\n",
       "      <td>3</td>\n",
       "      <td>7421966</td>\n",
       "      <td>https://www.airbnb.com/rooms/7421966</td>\n",
       "      <td>20160104002432</td>\n",
       "      <td>2016-01-04</td>\n",
       "      <td>Queen Anne Chateau</td>\n",
       "      <td>A charming apartment that sits atop Queen Anne...</td>\n",
       "      <td>NaN</td>\n",
       "      <td>A charming apartment that sits atop Queen Anne...</td>\n",
       "      <td>none</td>\n",
       "      <td>NaN</td>\n",
       "      <td>...</td>\n",
       "      <td>NaN</td>\n",
       "      <td>f</td>\n",
       "      <td>NaN</td>\n",
       "      <td>WASHINGTON</td>\n",
       "      <td>f</td>\n",
       "      <td>flexible</td>\n",
       "      <td>f</td>\n",
       "      <td>f</td>\n",
       "      <td>1</td>\n",
       "      <td>NaN</td>\n",
       "    </tr>\n",
       "    <tr>\n",
       "      <td>4</td>\n",
       "      <td>278830</td>\n",
       "      <td>https://www.airbnb.com/rooms/278830</td>\n",
       "      <td>20160104002432</td>\n",
       "      <td>2016-01-04</td>\n",
       "      <td>Charming craftsman 3 bdm house</td>\n",
       "      <td>Cozy family craftman house in beautiful neighb...</td>\n",
       "      <td>Cozy family craftman house in beautiful neighb...</td>\n",
       "      <td>Cozy family craftman house in beautiful neighb...</td>\n",
       "      <td>none</td>\n",
       "      <td>We are in the beautiful neighborhood of Queen ...</td>\n",
       "      <td>...</td>\n",
       "      <td>9.0</td>\n",
       "      <td>f</td>\n",
       "      <td>NaN</td>\n",
       "      <td>WASHINGTON</td>\n",
       "      <td>f</td>\n",
       "      <td>strict</td>\n",
       "      <td>f</td>\n",
       "      <td>f</td>\n",
       "      <td>1</td>\n",
       "      <td>0.89</td>\n",
       "    </tr>\n",
       "  </tbody>\n",
       "</table>\n",
       "<p>5 rows × 92 columns</p>\n",
       "</div>"
      ],
      "text/plain": [
       "        id                           listing_url       scrape_id last_scraped  \\\n",
       "0   241032   https://www.airbnb.com/rooms/241032  20160104002432   2016-01-04   \n",
       "1   953595   https://www.airbnb.com/rooms/953595  20160104002432   2016-01-04   \n",
       "2  3308979  https://www.airbnb.com/rooms/3308979  20160104002432   2016-01-04   \n",
       "3  7421966  https://www.airbnb.com/rooms/7421966  20160104002432   2016-01-04   \n",
       "4   278830   https://www.airbnb.com/rooms/278830  20160104002432   2016-01-04   \n",
       "\n",
       "                                  name  \\\n",
       "0         Stylish Queen Anne Apartment   \n",
       "1   Bright & Airy Queen Anne Apartment   \n",
       "2  New Modern House-Amazing water view   \n",
       "3                   Queen Anne Chateau   \n",
       "4       Charming craftsman 3 bdm house   \n",
       "\n",
       "                                             summary  \\\n",
       "0                                                NaN   \n",
       "1  Chemically sensitive? We've removed the irrita...   \n",
       "2  New modern house built in 2013.  Spectacular s...   \n",
       "3  A charming apartment that sits atop Queen Anne...   \n",
       "4  Cozy family craftman house in beautiful neighb...   \n",
       "\n",
       "                                               space  \\\n",
       "0  Make your self at home in this charming one-be...   \n",
       "1  Beautiful, hypoallergenic apartment in an extr...   \n",
       "2  Our house is modern, light and fresh with a wa...   \n",
       "3                                                NaN   \n",
       "4  Cozy family craftman house in beautiful neighb...   \n",
       "\n",
       "                                         description experiences_offered  \\\n",
       "0  Make your self at home in this charming one-be...                none   \n",
       "1  Chemically sensitive? We've removed the irrita...                none   \n",
       "2  New modern house built in 2013.  Spectacular s...                none   \n",
       "3  A charming apartment that sits atop Queen Anne...                none   \n",
       "4  Cozy family craftman house in beautiful neighb...                none   \n",
       "\n",
       "                               neighborhood_overview  ... review_scores_value  \\\n",
       "0                                                NaN  ...                10.0   \n",
       "1  Queen Anne is a wonderful, truly functional vi...  ...                10.0   \n",
       "2  Upper Queen Anne is a charming neighborhood fu...  ...                10.0   \n",
       "3                                                NaN  ...                 NaN   \n",
       "4  We are in the beautiful neighborhood of Queen ...  ...                 9.0   \n",
       "\n",
       "  requires_license license jurisdiction_names instant_bookable  \\\n",
       "0                f     NaN         WASHINGTON                f   \n",
       "1                f     NaN         WASHINGTON                f   \n",
       "2                f     NaN         WASHINGTON                f   \n",
       "3                f     NaN         WASHINGTON                f   \n",
       "4                f     NaN         WASHINGTON                f   \n",
       "\n",
       "  cancellation_policy  require_guest_profile_picture  \\\n",
       "0            moderate                              f   \n",
       "1              strict                              t   \n",
       "2              strict                              f   \n",
       "3            flexible                              f   \n",
       "4              strict                              f   \n",
       "\n",
       "  require_guest_phone_verification calculated_host_listings_count  \\\n",
       "0                                f                              2   \n",
       "1                                t                              6   \n",
       "2                                f                              2   \n",
       "3                                f                              1   \n",
       "4                                f                              1   \n",
       "\n",
       "  reviews_per_month  \n",
       "0              4.07  \n",
       "1              1.48  \n",
       "2              1.15  \n",
       "3               NaN  \n",
       "4              0.89  \n",
       "\n",
       "[5 rows x 92 columns]"
      ]
     },
     "execution_count": 1,
     "metadata": {},
     "output_type": "execute_result"
    }
   ],
   "source": [
    "import numpy as np\n",
    "import pandas as pd\n",
    "import matplotlib.pyplot as plt\n",
    "import seaborn as sb\n",
    "from sklearn.preprocessing import MultiLabelBinarizer\n",
    "from sklearn.ensemble import ExtraTreesClassifier\n",
    "from sklearn.linear_model import LinearRegression\n",
    "from sklearn.model_selection import train_test_split\n",
    "from sklearn.metrics import r2_score, mean_squared_error\n",
    "\n",
    "import seaborn as sns\n",
    "%matplotlib inline\n",
    "\n",
    "df_listings = pd.read_csv('listings.csv')\n",
    "df_calendar = pd.read_csv('calendar.csv')\n",
    "df_reviews = pd.read_csv('reviews.csv')\n",
    "df_listings.head()"
   ]
  },
  {
   "cell_type": "code",
   "execution_count": 2,
   "metadata": {},
   "outputs": [
    {
     "data": {
      "text/html": [
       "<div>\n",
       "<style scoped>\n",
       "    .dataframe tbody tr th:only-of-type {\n",
       "        vertical-align: middle;\n",
       "    }\n",
       "\n",
       "    .dataframe tbody tr th {\n",
       "        vertical-align: top;\n",
       "    }\n",
       "\n",
       "    .dataframe thead th {\n",
       "        text-align: right;\n",
       "    }\n",
       "</style>\n",
       "<table border=\"1\" class=\"dataframe\">\n",
       "  <thead>\n",
       "    <tr style=\"text-align: right;\">\n",
       "      <th></th>\n",
       "      <th>listing_id</th>\n",
       "      <th>date</th>\n",
       "      <th>available</th>\n",
       "      <th>price</th>\n",
       "    </tr>\n",
       "  </thead>\n",
       "  <tbody>\n",
       "    <tr>\n",
       "      <td>0</td>\n",
       "      <td>241032</td>\n",
       "      <td>2016-01-04</td>\n",
       "      <td>t</td>\n",
       "      <td>$85.00</td>\n",
       "    </tr>\n",
       "    <tr>\n",
       "      <td>1</td>\n",
       "      <td>241032</td>\n",
       "      <td>2016-01-05</td>\n",
       "      <td>t</td>\n",
       "      <td>$85.00</td>\n",
       "    </tr>\n",
       "    <tr>\n",
       "      <td>2</td>\n",
       "      <td>241032</td>\n",
       "      <td>2016-01-06</td>\n",
       "      <td>f</td>\n",
       "      <td>NaN</td>\n",
       "    </tr>\n",
       "    <tr>\n",
       "      <td>3</td>\n",
       "      <td>241032</td>\n",
       "      <td>2016-01-07</td>\n",
       "      <td>f</td>\n",
       "      <td>NaN</td>\n",
       "    </tr>\n",
       "    <tr>\n",
       "      <td>4</td>\n",
       "      <td>241032</td>\n",
       "      <td>2016-01-08</td>\n",
       "      <td>f</td>\n",
       "      <td>NaN</td>\n",
       "    </tr>\n",
       "  </tbody>\n",
       "</table>\n",
       "</div>"
      ],
      "text/plain": [
       "   listing_id        date available   price\n",
       "0      241032  2016-01-04         t  $85.00\n",
       "1      241032  2016-01-05         t  $85.00\n",
       "2      241032  2016-01-06         f     NaN\n",
       "3      241032  2016-01-07         f     NaN\n",
       "4      241032  2016-01-08         f     NaN"
      ]
     },
     "execution_count": 2,
     "metadata": {},
     "output_type": "execute_result"
    }
   ],
   "source": [
    "# Get a view of the dataset\n",
    "df_calendar.head()\n"
   ]
  },
  {
   "cell_type": "code",
   "execution_count": 3,
   "metadata": {},
   "outputs": [
    {
     "data": {
      "text/html": [
       "<div>\n",
       "<style scoped>\n",
       "    .dataframe tbody tr th:only-of-type {\n",
       "        vertical-align: middle;\n",
       "    }\n",
       "\n",
       "    .dataframe tbody tr th {\n",
       "        vertical-align: top;\n",
       "    }\n",
       "\n",
       "    .dataframe thead th {\n",
       "        text-align: right;\n",
       "    }\n",
       "</style>\n",
       "<table border=\"1\" class=\"dataframe\">\n",
       "  <thead>\n",
       "    <tr style=\"text-align: right;\">\n",
       "      <th></th>\n",
       "      <th>listing_id</th>\n",
       "      <th>id</th>\n",
       "      <th>date</th>\n",
       "      <th>reviewer_id</th>\n",
       "      <th>reviewer_name</th>\n",
       "      <th>comments</th>\n",
       "    </tr>\n",
       "  </thead>\n",
       "  <tbody>\n",
       "    <tr>\n",
       "      <td>0</td>\n",
       "      <td>7202016</td>\n",
       "      <td>38917982</td>\n",
       "      <td>2015-07-19</td>\n",
       "      <td>28943674</td>\n",
       "      <td>Bianca</td>\n",
       "      <td>Cute and cozy place. Perfect location to every...</td>\n",
       "    </tr>\n",
       "    <tr>\n",
       "      <td>1</td>\n",
       "      <td>7202016</td>\n",
       "      <td>39087409</td>\n",
       "      <td>2015-07-20</td>\n",
       "      <td>32440555</td>\n",
       "      <td>Frank</td>\n",
       "      <td>Kelly has a great room in a very central locat...</td>\n",
       "    </tr>\n",
       "    <tr>\n",
       "      <td>2</td>\n",
       "      <td>7202016</td>\n",
       "      <td>39820030</td>\n",
       "      <td>2015-07-26</td>\n",
       "      <td>37722850</td>\n",
       "      <td>Ian</td>\n",
       "      <td>Very spacious apartment, and in a great neighb...</td>\n",
       "    </tr>\n",
       "    <tr>\n",
       "      <td>3</td>\n",
       "      <td>7202016</td>\n",
       "      <td>40813543</td>\n",
       "      <td>2015-08-02</td>\n",
       "      <td>33671805</td>\n",
       "      <td>George</td>\n",
       "      <td>Close to Seattle Center and all it has to offe...</td>\n",
       "    </tr>\n",
       "    <tr>\n",
       "      <td>4</td>\n",
       "      <td>7202016</td>\n",
       "      <td>41986501</td>\n",
       "      <td>2015-08-10</td>\n",
       "      <td>34959538</td>\n",
       "      <td>Ming</td>\n",
       "      <td>Kelly was a great host and very accommodating ...</td>\n",
       "    </tr>\n",
       "  </tbody>\n",
       "</table>\n",
       "</div>"
      ],
      "text/plain": [
       "   listing_id        id        date  reviewer_id reviewer_name  \\\n",
       "0     7202016  38917982  2015-07-19     28943674        Bianca   \n",
       "1     7202016  39087409  2015-07-20     32440555         Frank   \n",
       "2     7202016  39820030  2015-07-26     37722850           Ian   \n",
       "3     7202016  40813543  2015-08-02     33671805        George   \n",
       "4     7202016  41986501  2015-08-10     34959538          Ming   \n",
       "\n",
       "                                            comments  \n",
       "0  Cute and cozy place. Perfect location to every...  \n",
       "1  Kelly has a great room in a very central locat...  \n",
       "2  Very spacious apartment, and in a great neighb...  \n",
       "3  Close to Seattle Center and all it has to offe...  \n",
       "4  Kelly was a great host and very accommodating ...  "
      ]
     },
     "execution_count": 3,
     "metadata": {},
     "output_type": "execute_result"
    }
   ],
   "source": [
    "# Get a view of the dataset\n",
    "df_reviews.head()\n"
   ]
  },
  {
   "cell_type": "code",
   "execution_count": 4,
   "metadata": {},
   "outputs": [
    {
     "name": "stdout",
     "output_type": "stream",
     "text": [
      "<class 'pandas.core.frame.DataFrame'>\n",
      "RangeIndex: 3818 entries, 0 to 3817\n",
      "Data columns (total 92 columns):\n",
      "id                                  3818 non-null int64\n",
      "listing_url                         3818 non-null object\n",
      "scrape_id                           3818 non-null int64\n",
      "last_scraped                        3818 non-null object\n",
      "name                                3818 non-null object\n",
      "summary                             3641 non-null object\n",
      "space                               3249 non-null object\n",
      "description                         3818 non-null object\n",
      "experiences_offered                 3818 non-null object\n",
      "neighborhood_overview               2786 non-null object\n",
      "notes                               2212 non-null object\n",
      "transit                             2884 non-null object\n",
      "thumbnail_url                       3498 non-null object\n",
      "medium_url                          3498 non-null object\n",
      "picture_url                         3818 non-null object\n",
      "xl_picture_url                      3498 non-null object\n",
      "host_id                             3818 non-null int64\n",
      "host_url                            3818 non-null object\n",
      "host_name                           3816 non-null object\n",
      "host_since                          3816 non-null object\n",
      "host_location                       3810 non-null object\n",
      "host_about                          2959 non-null object\n",
      "host_response_time                  3295 non-null object\n",
      "host_response_rate                  3295 non-null object\n",
      "host_acceptance_rate                3045 non-null object\n",
      "host_is_superhost                   3816 non-null object\n",
      "host_thumbnail_url                  3816 non-null object\n",
      "host_picture_url                    3816 non-null object\n",
      "host_neighbourhood                  3518 non-null object\n",
      "host_listings_count                 3816 non-null float64\n",
      "host_total_listings_count           3816 non-null float64\n",
      "host_verifications                  3818 non-null object\n",
      "host_has_profile_pic                3816 non-null object\n",
      "host_identity_verified              3816 non-null object\n",
      "street                              3818 non-null object\n",
      "neighbourhood                       3402 non-null object\n",
      "neighbourhood_cleansed              3818 non-null object\n",
      "neighbourhood_group_cleansed        3818 non-null object\n",
      "city                                3818 non-null object\n",
      "state                               3818 non-null object\n",
      "zipcode                             3811 non-null object\n",
      "market                              3818 non-null object\n",
      "smart_location                      3818 non-null object\n",
      "country_code                        3818 non-null object\n",
      "country                             3818 non-null object\n",
      "latitude                            3818 non-null float64\n",
      "longitude                           3818 non-null float64\n",
      "is_location_exact                   3818 non-null object\n",
      "property_type                       3817 non-null object\n",
      "room_type                           3818 non-null object\n",
      "accommodates                        3818 non-null int64\n",
      "bathrooms                           3802 non-null float64\n",
      "bedrooms                            3812 non-null float64\n",
      "beds                                3817 non-null float64\n",
      "bed_type                            3818 non-null object\n",
      "amenities                           3818 non-null object\n",
      "square_feet                         97 non-null float64\n",
      "price                               3818 non-null object\n",
      "weekly_price                        2009 non-null object\n",
      "monthly_price                       1517 non-null object\n",
      "security_deposit                    1866 non-null object\n",
      "cleaning_fee                        2788 non-null object\n",
      "guests_included                     3818 non-null int64\n",
      "extra_people                        3818 non-null object\n",
      "minimum_nights                      3818 non-null int64\n",
      "maximum_nights                      3818 non-null int64\n",
      "calendar_updated                    3818 non-null object\n",
      "has_availability                    3818 non-null object\n",
      "availability_30                     3818 non-null int64\n",
      "availability_60                     3818 non-null int64\n",
      "availability_90                     3818 non-null int64\n",
      "availability_365                    3818 non-null int64\n",
      "calendar_last_scraped               3818 non-null object\n",
      "number_of_reviews                   3818 non-null int64\n",
      "first_review                        3191 non-null object\n",
      "last_review                         3191 non-null object\n",
      "review_scores_rating                3171 non-null float64\n",
      "review_scores_accuracy              3160 non-null float64\n",
      "review_scores_cleanliness           3165 non-null float64\n",
      "review_scores_checkin               3160 non-null float64\n",
      "review_scores_communication         3167 non-null float64\n",
      "review_scores_location              3163 non-null float64\n",
      "review_scores_value                 3162 non-null float64\n",
      "requires_license                    3818 non-null object\n",
      "license                             0 non-null float64\n",
      "jurisdiction_names                  3818 non-null object\n",
      "instant_bookable                    3818 non-null object\n",
      "cancellation_policy                 3818 non-null object\n",
      "require_guest_profile_picture       3818 non-null object\n",
      "require_guest_phone_verification    3818 non-null object\n",
      "calculated_host_listings_count      3818 non-null int64\n",
      "reviews_per_month                   3191 non-null float64\n",
      "dtypes: float64(17), int64(13), object(62)\n",
      "memory usage: 2.7+ MB\n"
     ]
    }
   ],
   "source": [
    "# Get info of main dataframe\n",
    "df_listings.info()"
   ]
  },
  {
   "cell_type": "markdown",
   "metadata": {},
   "source": [
    "#### After carefully looking at each column (this has not been added to the notebook for space reasons), I decided to drop the columns that are not relevant with the price of the home. Furthermore, some other actions are required and are listed below:\n",
    "#### 1) Drop irrelevant to price columns\n",
    "#### 2) Drop rows where entries for the neighbourhood column are missing.\n",
    "#### 3) Drop columnn 'square_feet'\n",
    "#### 4) Remove \"%\" from \"host_response_rate\" , convert it to intiger dtype and fill NaN with average\n",
    "#### 5) Convert \"bedrooms\" to int dtype and fill NaN with mode.\n",
    "#### 6) Fillna with mean to columns = 'host_total_listings_count','review_score_rating', 'review_scores_accuracy', 'review_scores_cleanliness','review_scores_checkin','review_scores_communication','review_scores_location','review_scores_value','reviews_per_month','bathrooms','beds'.\n",
    "#### 7) Remove whitespace from 'host_response_time' and fillna with mode to columns = 'host_response_time','host_is_superhost','host_identity_verified','property_type'\n",
    "#### 8) Remove \"dollar sign\" from \"extra_people\" and convert it to float dtype\n",
    "#### 9) Convert columns 'host_is_superhost','host_identity_verified','is_location_exact','instant_bookable' to boolean\n",
    "#### 10) Remove \"},{.'\" from the \"amenities\" column, create a list with the elements of the original string and        'binarize' them so that each element forms a column where 1 describes a home that includes the service and ) if not.\n",
    "#### 11) Remove dollar sign from 'price' and convert it to float \n",
    "#### 12) Create dummies for the remaining 'object' columns"
   ]
  },
  {
   "cell_type": "markdown",
   "metadata": {},
   "source": [
    "## 1.2 Clean Data"
   ]
  },
  {
   "cell_type": "markdown",
   "metadata": {},
   "source": [
    "#### 1.2.1 - Drop irrelevant to price columns and check that the change has been applied"
   ]
  },
  {
   "cell_type": "code",
   "execution_count": 5,
   "metadata": {},
   "outputs": [
    {
     "name": "stdout",
     "output_type": "stream",
     "text": [
      "<class 'pandas.core.frame.DataFrame'>\n",
      "RangeIndex: 3818 entries, 0 to 3817\n",
      "Data columns (total 36 columns):\n",
      "host_response_time             3295 non-null object\n",
      "host_response_rate             3295 non-null object\n",
      "host_is_superhost              3816 non-null object\n",
      "host_total_listings_count      3816 non-null float64\n",
      "host_identity_verified         3816 non-null object\n",
      "neighbourhood                  3402 non-null object\n",
      "is_location_exact              3818 non-null object\n",
      "property_type                  3817 non-null object\n",
      "room_type                      3818 non-null object\n",
      "accommodates                   3818 non-null int64\n",
      "bathrooms                      3802 non-null float64\n",
      "bedrooms                       3812 non-null float64\n",
      "beds                           3817 non-null float64\n",
      "bed_type                       3818 non-null object\n",
      "amenities                      3818 non-null object\n",
      "square_feet                    97 non-null float64\n",
      "price                          3818 non-null object\n",
      "guests_included                3818 non-null int64\n",
      "extra_people                   3818 non-null object\n",
      "minimum_nights                 3818 non-null int64\n",
      "maximum_nights                 3818 non-null int64\n",
      "availability_30                3818 non-null int64\n",
      "availability_60                3818 non-null int64\n",
      "availability_90                3818 non-null int64\n",
      "availability_365               3818 non-null int64\n",
      "number_of_reviews              3818 non-null int64\n",
      "review_scores_rating           3171 non-null float64\n",
      "review_scores_accuracy         3160 non-null float64\n",
      "review_scores_cleanliness      3165 non-null float64\n",
      "review_scores_checkin          3160 non-null float64\n",
      "review_scores_communication    3167 non-null float64\n",
      "review_scores_location         3163 non-null float64\n",
      "review_scores_value            3162 non-null float64\n",
      "instant_bookable               3818 non-null object\n",
      "cancellation_policy            3818 non-null object\n",
      "reviews_per_month              3191 non-null float64\n",
      "dtypes: float64(13), int64(9), object(14)\n",
      "memory usage: 1.0+ MB\n"
     ]
    }
   ],
   "source": [
    "# Create a copy of the original dataframe \n",
    "df_drop = df_listings.copy()\n",
    "\n",
    "# Create list with columns that are irrelevantt to price to drop them\n",
    "columns_to_drop = ['host_since','cleaning_fee','security_deposit','city','state','id','listing_url','scrape_id','last_scraped','name','summary','space','description','experiences_offered','neighborhood_overview','notes','transit','thumbnail_url',\n",
    "                  'medium_url','picture_url','xl_picture_url','host_id','host_url','host_name','host_location','host_about',\n",
    "                  'host_acceptance_rate','host_thumbnail_url','host_picture_url','host_neighbourhood','host_listings_count',\n",
    "                  'host_verifications','host_has_profile_pic','street','neighbourhood_cleansed','neighbourhood_group_cleansed',\n",
    "                  'zipcode','market','smart_location','country_code','country','latitude','longitude','weekly_price','monthly_price',\n",
    "                  'calendar_updated','has_availability','calendar_last_scraped','first_review','last_review','requires_license',\n",
    "                  'license','jurisdiction_names','require_guest_profile_picture','require_guest_phone_verification','calculated_host_listings_count']\n",
    "\n",
    "# Drop columns\n",
    "df_drop = df_drop.drop(columns_to_drop, axis = 1)\n",
    "# Check that columns have been dropped\n",
    "df_drop.info()"
   ]
  },
  {
   "cell_type": "markdown",
   "metadata": {},
   "source": [
    "#### 1.2.2 Drop rows where entries for the neighbourhood column are missing"
   ]
  },
  {
   "cell_type": "code",
   "execution_count": 6,
   "metadata": {},
   "outputs": [
    {
     "name": "stdout",
     "output_type": "stream",
     "text": [
      "<class 'pandas.core.frame.DataFrame'>\n",
      "Int64Index: 3402 entries, 0 to 3817\n",
      "Data columns (total 36 columns):\n",
      "host_response_time             2934 non-null object\n",
      "host_response_rate             2934 non-null object\n",
      "host_is_superhost              3400 non-null object\n",
      "host_total_listings_count      3400 non-null float64\n",
      "host_identity_verified         3400 non-null object\n",
      "neighbourhood                  3402 non-null object\n",
      "is_location_exact              3402 non-null object\n",
      "property_type                  3401 non-null object\n",
      "room_type                      3402 non-null object\n",
      "accommodates                   3402 non-null int64\n",
      "bathrooms                      3386 non-null float64\n",
      "bedrooms                       3396 non-null float64\n",
      "beds                           3401 non-null float64\n",
      "bed_type                       3402 non-null object\n",
      "amenities                      3402 non-null object\n",
      "square_feet                    94 non-null float64\n",
      "price                          3402 non-null object\n",
      "guests_included                3402 non-null int64\n",
      "extra_people                   3402 non-null object\n",
      "minimum_nights                 3402 non-null int64\n",
      "maximum_nights                 3402 non-null int64\n",
      "availability_30                3402 non-null int64\n",
      "availability_60                3402 non-null int64\n",
      "availability_90                3402 non-null int64\n",
      "availability_365               3402 non-null int64\n",
      "number_of_reviews              3402 non-null int64\n",
      "review_scores_rating           2866 non-null float64\n",
      "review_scores_accuracy         2856 non-null float64\n",
      "review_scores_cleanliness      2861 non-null float64\n",
      "review_scores_checkin          2856 non-null float64\n",
      "review_scores_communication    2862 non-null float64\n",
      "review_scores_location         2858 non-null float64\n",
      "review_scores_value            2858 non-null float64\n",
      "instant_bookable               3402 non-null object\n",
      "cancellation_policy            3402 non-null object\n",
      "reviews_per_month              2882 non-null float64\n",
      "dtypes: float64(13), int64(9), object(14)\n",
      "memory usage: 983.4+ KB\n"
     ]
    }
   ],
   "source": [
    "df_drop.dropna(axis=0, how='any', subset=['neighbourhood'], inplace=True)\n",
    "df_drop.info()"
   ]
  },
  {
   "cell_type": "markdown",
   "metadata": {},
   "source": [
    "#### 1.2.3 Drop column 'square_feet'"
   ]
  },
  {
   "cell_type": "code",
   "execution_count": 7,
   "metadata": {},
   "outputs": [
    {
     "name": "stdout",
     "output_type": "stream",
     "text": [
      "<class 'pandas.core.frame.DataFrame'>\n",
      "Int64Index: 3402 entries, 0 to 3817\n",
      "Data columns (total 35 columns):\n",
      "host_response_time             2934 non-null object\n",
      "host_response_rate             2934 non-null object\n",
      "host_is_superhost              3400 non-null object\n",
      "host_total_listings_count      3400 non-null float64\n",
      "host_identity_verified         3400 non-null object\n",
      "neighbourhood                  3402 non-null object\n",
      "is_location_exact              3402 non-null object\n",
      "property_type                  3401 non-null object\n",
      "room_type                      3402 non-null object\n",
      "accommodates                   3402 non-null int64\n",
      "bathrooms                      3386 non-null float64\n",
      "bedrooms                       3396 non-null float64\n",
      "beds                           3401 non-null float64\n",
      "bed_type                       3402 non-null object\n",
      "amenities                      3402 non-null object\n",
      "price                          3402 non-null object\n",
      "guests_included                3402 non-null int64\n",
      "extra_people                   3402 non-null object\n",
      "minimum_nights                 3402 non-null int64\n",
      "maximum_nights                 3402 non-null int64\n",
      "availability_30                3402 non-null int64\n",
      "availability_60                3402 non-null int64\n",
      "availability_90                3402 non-null int64\n",
      "availability_365               3402 non-null int64\n",
      "number_of_reviews              3402 non-null int64\n",
      "review_scores_rating           2866 non-null float64\n",
      "review_scores_accuracy         2856 non-null float64\n",
      "review_scores_cleanliness      2861 non-null float64\n",
      "review_scores_checkin          2856 non-null float64\n",
      "review_scores_communication    2862 non-null float64\n",
      "review_scores_location         2858 non-null float64\n",
      "review_scores_value            2858 non-null float64\n",
      "instant_bookable               3402 non-null object\n",
      "cancellation_policy            3402 non-null object\n",
      "reviews_per_month              2882 non-null float64\n",
      "dtypes: float64(12), int64(9), object(14)\n",
      "memory usage: 956.8+ KB\n"
     ]
    }
   ],
   "source": [
    "df_drop.drop(columns='square_feet',inplace=True)\n",
    "df_drop.info()"
   ]
  },
  {
   "cell_type": "code",
   "execution_count": 8,
   "metadata": {},
   "outputs": [
    {
     "data": {
      "text/plain": [
       "['host_response_time',\n",
       " 'host_response_rate',\n",
       " 'host_is_superhost',\n",
       " 'host_total_listings_count',\n",
       " 'host_identity_verified',\n",
       " 'property_type',\n",
       " 'bathrooms',\n",
       " 'bedrooms',\n",
       " 'beds',\n",
       " 'review_scores_rating',\n",
       " 'review_scores_accuracy',\n",
       " 'review_scores_cleanliness',\n",
       " 'review_scores_checkin',\n",
       " 'review_scores_communication',\n",
       " 'review_scores_location',\n",
       " 'review_scores_value',\n",
       " 'reviews_per_month']"
      ]
     },
     "execution_count": 8,
     "metadata": {},
     "output_type": "execute_result"
    }
   ],
   "source": [
    "# Check which columns have NaN values \n",
    "df_drop.columns[df_drop.isna().any()].tolist()"
   ]
  },
  {
   "cell_type": "markdown",
   "metadata": {},
   "source": [
    "#### 1.2.4 Convert 'host_response_rate\" to int, remove '%' and fill NaN with average"
   ]
  },
  {
   "cell_type": "code",
   "execution_count": 9,
   "metadata": {},
   "outputs": [
    {
     "name": "stdout",
     "output_type": "stream",
     "text": [
      "int32\n",
      "(3402,)\n"
     ]
    }
   ],
   "source": [
    "df_drop.host_response_rate = df_drop.host_response_rate.str.replace('%', '')\n",
    "df_drop.host_response_rate = df_drop.host_response_rate.fillna(df_drop.bedrooms.mean())\n",
    "df_drop.host_response_rate = df_drop.host_response_rate.astype(int)\n",
    "print(df_drop.host_response_rate.dtype)\n",
    "print(df_drop.host_response_rate.shape)"
   ]
  },
  {
   "cell_type": "markdown",
   "metadata": {},
   "source": [
    "#### 1.2.5 Convert \"bedrooms\" to int dtype and fill NaN with mode"
   ]
  },
  {
   "cell_type": "code",
   "execution_count": 10,
   "metadata": {},
   "outputs": [
    {
     "name": "stdout",
     "output_type": "stream",
     "text": [
      "int32\n",
      "(3402,)\n"
     ]
    }
   ],
   "source": [
    "df_drop.bedrooms = df_drop.bedrooms.fillna(df_drop.bedrooms.mean())\n",
    "df_drop.bedrooms = df_drop.bedrooms.astype(int)\n",
    "print(df_drop.bedrooms.dtype)\n",
    "print(df_drop.bedrooms.shape)"
   ]
  },
  {
   "cell_type": "markdown",
   "metadata": {},
   "source": [
    "#### 1.2.6 Fillna to columns 'host_total_listings_count','review_score_rating', 'review_scores_accuracy', 'review_scores_cleanliness','review_scores_checkin','review_scores_communication','review_scores_location','review_scores_value','reviews_per_month' with mean."
   ]
  },
  {
   "cell_type": "code",
   "execution_count": 11,
   "metadata": {},
   "outputs": [
    {
     "name": "stdout",
     "output_type": "stream",
     "text": [
      "<class 'pandas.core.frame.DataFrame'>\n",
      "Int64Index: 3402 entries, 0 to 3817\n",
      "Data columns (total 35 columns):\n",
      "host_response_time             2934 non-null object\n",
      "host_response_rate             3402 non-null int32\n",
      "host_is_superhost              3400 non-null object\n",
      "host_total_listings_count      3402 non-null float64\n",
      "host_identity_verified         3400 non-null object\n",
      "neighbourhood                  3402 non-null object\n",
      "is_location_exact              3402 non-null object\n",
      "property_type                  3401 non-null object\n",
      "room_type                      3402 non-null object\n",
      "accommodates                   3402 non-null int64\n",
      "bathrooms                      3402 non-null float64\n",
      "bedrooms                       3402 non-null int32\n",
      "beds                           3402 non-null float64\n",
      "bed_type                       3402 non-null object\n",
      "amenities                      3402 non-null object\n",
      "price                          3402 non-null object\n",
      "guests_included                3402 non-null int64\n",
      "extra_people                   3402 non-null object\n",
      "minimum_nights                 3402 non-null int64\n",
      "maximum_nights                 3402 non-null int64\n",
      "availability_30                3402 non-null int64\n",
      "availability_60                3402 non-null int64\n",
      "availability_90                3402 non-null int64\n",
      "availability_365               3402 non-null int64\n",
      "number_of_reviews              3402 non-null int64\n",
      "review_scores_rating           3402 non-null float64\n",
      "review_scores_accuracy         3402 non-null float64\n",
      "review_scores_cleanliness      3402 non-null float64\n",
      "review_scores_checkin          3402 non-null float64\n",
      "review_scores_communication    3402 non-null float64\n",
      "review_scores_location         3402 non-null float64\n",
      "review_scores_value            3402 non-null float64\n",
      "instant_bookable               3402 non-null object\n",
      "cancellation_policy            3402 non-null object\n",
      "reviews_per_month              3402 non-null float64\n",
      "dtypes: float64(11), int32(2), int64(9), object(13)\n",
      "memory usage: 930.2+ KB\n"
     ]
    }
   ],
   "source": [
    "cols_fillna_mean = ['host_total_listings_count','review_scores_rating', 'review_scores_accuracy', 'review_scores_cleanliness',\n",
    "                    'review_scores_checkin','review_scores_communication','review_scores_location','review_scores_value',\n",
    "                    'reviews_per_month','bathrooms','beds']\n",
    "for col in cols_fillna_mean:\n",
    "        df_drop[col].fillna((df_drop[col].mean()), inplace=True)\n",
    "        \n",
    "df_drop.info()        "
   ]
  },
  {
   "cell_type": "markdown",
   "metadata": {},
   "source": [
    "#### 1.2.7 Remove whitespace from 'host_response_time' and fillna to columns = 'host_response_time','host_is_superhost','host_identity_verified','property_type','bathrooms','beds' with mode."
   ]
  },
  {
   "cell_type": "code",
   "execution_count": 12,
   "metadata": {},
   "outputs": [
    {
     "data": {
      "text/plain": [
       "within an hour        1505\n",
       "within a few hours     875\n",
       "within a day           526\n",
       "a few days or more      28\n",
       "Name: host_response_time, dtype: int64"
      ]
     },
     "execution_count": 12,
     "metadata": {},
     "output_type": "execute_result"
    }
   ],
   "source": [
    "# Remove whitespace from 'host_response_time' \n",
    "df_drop.host_response_time = df_drop.host_response_time.str.strip()\n",
    "# Check that change has been applied\n",
    "df_drop.host_response_time.value_counts()"
   ]
  },
  {
   "cell_type": "code",
   "execution_count": 13,
   "metadata": {},
   "outputs": [
    {
     "name": "stdout",
     "output_type": "stream",
     "text": [
      "<class 'pandas.core.frame.DataFrame'>\n",
      "Int64Index: 3402 entries, 0 to 3817\n",
      "Data columns (total 35 columns):\n",
      "host_response_time             3402 non-null object\n",
      "host_response_rate             3402 non-null int32\n",
      "host_is_superhost              3402 non-null object\n",
      "host_total_listings_count      3402 non-null float64\n",
      "host_identity_verified         3402 non-null object\n",
      "neighbourhood                  3402 non-null object\n",
      "is_location_exact              3402 non-null object\n",
      "property_type                  3402 non-null object\n",
      "room_type                      3402 non-null object\n",
      "accommodates                   3402 non-null int64\n",
      "bathrooms                      3402 non-null float64\n",
      "bedrooms                       3402 non-null int32\n",
      "beds                           3402 non-null float64\n",
      "bed_type                       3402 non-null object\n",
      "amenities                      3402 non-null object\n",
      "price                          3402 non-null object\n",
      "guests_included                3402 non-null int64\n",
      "extra_people                   3402 non-null object\n",
      "minimum_nights                 3402 non-null int64\n",
      "maximum_nights                 3402 non-null int64\n",
      "availability_30                3402 non-null int64\n",
      "availability_60                3402 non-null int64\n",
      "availability_90                3402 non-null int64\n",
      "availability_365               3402 non-null int64\n",
      "number_of_reviews              3402 non-null int64\n",
      "review_scores_rating           3402 non-null float64\n",
      "review_scores_accuracy         3402 non-null float64\n",
      "review_scores_cleanliness      3402 non-null float64\n",
      "review_scores_checkin          3402 non-null float64\n",
      "review_scores_communication    3402 non-null float64\n",
      "review_scores_location         3402 non-null float64\n",
      "review_scores_value            3402 non-null float64\n",
      "instant_bookable               3402 non-null object\n",
      "cancellation_policy            3402 non-null object\n",
      "reviews_per_month              3402 non-null float64\n",
      "dtypes: float64(11), int32(2), int64(9), object(13)\n",
      "memory usage: 930.2+ KB\n"
     ]
    }
   ],
   "source": [
    "# Fill NaN values to columns with mode()\n",
    "cols_fillna_mode = ['host_response_time','host_is_superhost','host_identity_verified','property_type']\n",
    "for col in cols_fillna_mode:\n",
    "        df_drop[col].fillna((df_drop[col].mode()[0]), inplace=True)\n",
    "        \n",
    "df_drop.info()   "
   ]
  },
  {
   "cell_type": "markdown",
   "metadata": {},
   "source": [
    "#### 1.2.8 Remove \"dollar sign\" from \"extra_people\" and convert it to float dtype"
   ]
  },
  {
   "cell_type": "code",
   "execution_count": 14,
   "metadata": {},
   "outputs": [],
   "source": [
    "# Remove $ sign and convert to float\n",
    "df_drop['extra_people'] = df_drop['extra_people'].str.replace('$', '')\n",
    "df_drop['extra_people'] = df_drop['extra_people'].astype('float')\n"
   ]
  },
  {
   "cell_type": "markdown",
   "metadata": {},
   "source": [
    "#### 1.2.8 Convert columns 'host_is_superhost','host_identity_verified','is_location_exact','instant_bookable' to boolean"
   ]
  },
  {
   "cell_type": "code",
   "execution_count": 15,
   "metadata": {},
   "outputs": [
    {
     "name": "stdout",
     "output_type": "stream",
     "text": [
      "<class 'pandas.core.frame.DataFrame'>\n",
      "Int64Index: 3402 entries, 0 to 3817\n",
      "Data columns (total 35 columns):\n",
      "host_response_time             3402 non-null object\n",
      "host_response_rate             3402 non-null int32\n",
      "host_is_superhost              3402 non-null int32\n",
      "host_total_listings_count      3402 non-null float64\n",
      "host_identity_verified         3402 non-null int32\n",
      "neighbourhood                  3402 non-null object\n",
      "is_location_exact              3402 non-null int32\n",
      "property_type                  3402 non-null object\n",
      "room_type                      3402 non-null object\n",
      "accommodates                   3402 non-null int64\n",
      "bathrooms                      3402 non-null float64\n",
      "bedrooms                       3402 non-null int32\n",
      "beds                           3402 non-null float64\n",
      "bed_type                       3402 non-null object\n",
      "amenities                      3402 non-null object\n",
      "price                          3402 non-null object\n",
      "guests_included                3402 non-null int64\n",
      "extra_people                   3402 non-null float64\n",
      "minimum_nights                 3402 non-null int64\n",
      "maximum_nights                 3402 non-null int64\n",
      "availability_30                3402 non-null int64\n",
      "availability_60                3402 non-null int64\n",
      "availability_90                3402 non-null int64\n",
      "availability_365               3402 non-null int64\n",
      "number_of_reviews              3402 non-null int64\n",
      "review_scores_rating           3402 non-null float64\n",
      "review_scores_accuracy         3402 non-null float64\n",
      "review_scores_cleanliness      3402 non-null float64\n",
      "review_scores_checkin          3402 non-null float64\n",
      "review_scores_communication    3402 non-null float64\n",
      "review_scores_location         3402 non-null float64\n",
      "review_scores_value            3402 non-null float64\n",
      "instant_bookable               3402 non-null int32\n",
      "cancellation_policy            3402 non-null object\n",
      "reviews_per_month              3402 non-null float64\n",
      "dtypes: float64(12), int32(6), int64(9), object(8)\n",
      "memory usage: 877.1+ KB\n"
     ]
    }
   ],
   "source": [
    "# Convert columns to boolean\n",
    "cols_bool = ['host_is_superhost','host_identity_verified','is_location_exact','instant_bookable']\n",
    "for col in cols_bool:\n",
    "    df_drop[col] = df_drop[col].str.replace('t', '1')\n",
    "    df_drop[col] = df_drop[col].str.replace('f', '0')\n",
    "for col in cols_bool:\n",
    "    df_drop[col] = df_drop[col].astype('int')\n",
    "  \n",
    "    \n",
    "# Check if change has been applied\n",
    "df_drop.info()    "
   ]
  },
  {
   "cell_type": "markdown",
   "metadata": {},
   "source": [
    "#### 1.2.9 Deal with the 'amenities' column as described in the \"Assess Data\" section"
   ]
  },
  {
   "cell_type": "code",
   "execution_count": 16,
   "metadata": {},
   "outputs": [
    {
     "name": "stderr",
     "output_type": "stream",
     "text": [
      "C:\\Users\\Fotis\\Anaconda3\\lib\\site-packages\\ipykernel_launcher.py:11: SettingWithCopyWarning: \n",
      "A value is trying to be set on a copy of a slice from a DataFrame\n",
      "\n",
      "See the caveats in the documentation: http://pandas.pydata.org/pandas-docs/stable/user_guide/indexing.html#returning-a-view-versus-a-copy\n",
      "  # This is added back by InteractiveShellApp.init_path()\n"
     ]
    },
    {
     "data": {
      "text/plain": [
       "0       [TV, Cable TV, Internet, Wireless Internet, Ai...\n",
       "1       [TV, Internet, Wireless Internet, Kitchen, Fre...\n",
       "2       [TV, Cable TV, Internet, Wireless Internet, Ai...\n",
       "3       [Internet, Wireless Internet, Kitchen, Indoor ...\n",
       "4       [TV, Cable TV, Internet, Wireless Internet, Ki...\n",
       "                              ...                        \n",
       "3397    [TV, Cable TV, Internet, Wireless Internet, Ai...\n",
       "3398    [Internet, Wireless Internet, Kitchen, Free Pa...\n",
       "3399    [TV, Cable TV, Internet, Wireless Internet, Ai...\n",
       "3400    [TV, Cable TV, Internet, Wireless Internet, Ki...\n",
       "3401    [TV, Cable TV, Internet, Wireless Internet, Ki...\n",
       "Name: amenities, Length: 3402, dtype: object"
      ]
     },
     "execution_count": 16,
     "metadata": {},
     "output_type": "execute_result"
    }
   ],
   "source": [
    "# Put values for 'amenities' into a list\n",
    "df_drop['amenities'] = df_drop['amenities'].str.replace('{', '')\n",
    "df_drop['amenities'] = df_drop['amenities'].str.replace('}', '')\n",
    "df_drop['amenities'] = df_drop['amenities'].str.replace('\"', '')\n",
    "\n",
    "# Reset the index to iterate over the rows\n",
    "df_drop.reset_index(drop=True,inplace=True)\n",
    "\n",
    "# Iterate over the rows to create a list under the amenities values\n",
    "for row in range(0,df_drop.shape[0]):\n",
    "    df_drop.amenities[row] = df_drop.amenities[row].split(\",\")\n",
    "\n",
    "# Checck that change has been applied\n",
    "df_drop.amenities"
   ]
  },
  {
   "cell_type": "code",
   "execution_count": 17,
   "metadata": {},
   "outputs": [
    {
     "name": "stdout",
     "output_type": "stream",
     "text": [
      "<class 'pandas.core.frame.DataFrame'>\n",
      "RangeIndex: 3402 entries, 0 to 3401\n",
      "Data columns (total 76 columns):\n",
      "host_response_time             3402 non-null object\n",
      "host_response_rate             3402 non-null int32\n",
      "host_is_superhost              3402 non-null int32\n",
      "host_total_listings_count      3402 non-null float64\n",
      "host_identity_verified         3402 non-null int32\n",
      "neighbourhood                  3402 non-null object\n",
      "is_location_exact              3402 non-null int32\n",
      "property_type                  3402 non-null object\n",
      "room_type                      3402 non-null object\n",
      "accommodates                   3402 non-null int64\n",
      "bathrooms                      3402 non-null float64\n",
      "bedrooms                       3402 non-null int32\n",
      "beds                           3402 non-null float64\n",
      "bed_type                       3402 non-null object\n",
      "price                          3402 non-null object\n",
      "guests_included                3402 non-null int64\n",
      "extra_people                   3402 non-null float64\n",
      "minimum_nights                 3402 non-null int64\n",
      "maximum_nights                 3402 non-null int64\n",
      "availability_30                3402 non-null int64\n",
      "availability_60                3402 non-null int64\n",
      "availability_90                3402 non-null int64\n",
      "availability_365               3402 non-null int64\n",
      "number_of_reviews              3402 non-null int64\n",
      "review_scores_rating           3402 non-null float64\n",
      "review_scores_accuracy         3402 non-null float64\n",
      "review_scores_cleanliness      3402 non-null float64\n",
      "review_scores_checkin          3402 non-null float64\n",
      "review_scores_communication    3402 non-null float64\n",
      "review_scores_location         3402 non-null float64\n",
      "review_scores_value            3402 non-null float64\n",
      "instant_bookable               3402 non-null int32\n",
      "cancellation_policy            3402 non-null object\n",
      "reviews_per_month              3402 non-null float64\n",
      "                               3402 non-null int32\n",
      "24-Hour Check-in               3402 non-null int32\n",
      "Air Conditioning               3402 non-null int32\n",
      "Breakfast                      3402 non-null int32\n",
      "Buzzer/Wireless Intercom       3402 non-null int32\n",
      "Cable TV                       3402 non-null int32\n",
      "Carbon Monoxide Detector       3402 non-null int32\n",
      "Cat(s)                         3402 non-null int32\n",
      "Dog(s)                         3402 non-null int32\n",
      "Doorman                        3402 non-null int32\n",
      "Dryer                          3402 non-null int32\n",
      "Elevator in Building           3402 non-null int32\n",
      "Essentials                     3402 non-null int32\n",
      "Family/Kid Friendly            3402 non-null int32\n",
      "Fire Extinguisher              3402 non-null int32\n",
      "First Aid Kit                  3402 non-null int32\n",
      "Free Parking on Premises       3402 non-null int32\n",
      "Gym                            3402 non-null int32\n",
      "Hair Dryer                     3402 non-null int32\n",
      "Hangers                        3402 non-null int32\n",
      "Heating                        3402 non-null int32\n",
      "Hot Tub                        3402 non-null int32\n",
      "Indoor Fireplace               3402 non-null int32\n",
      "Internet                       3402 non-null int32\n",
      "Iron                           3402 non-null int32\n",
      "Kitchen                        3402 non-null int32\n",
      "Laptop Friendly Workspace      3402 non-null int32\n",
      "Lock on Bedroom Door           3402 non-null int32\n",
      "Other pet(s)                   3402 non-null int32\n",
      "Pets Allowed                   3402 non-null int32\n",
      "Pets live on this property     3402 non-null int32\n",
      "Pool                           3402 non-null int32\n",
      "Safety Card                    3402 non-null int32\n",
      "Shampoo                        3402 non-null int32\n",
      "Smoke Detector                 3402 non-null int32\n",
      "Smoking Allowed                3402 non-null int32\n",
      "Suitable for Events            3402 non-null int32\n",
      "TV                             3402 non-null int32\n",
      "Washer                         3402 non-null int32\n",
      "Washer / Dryer                 3402 non-null int32\n",
      "Wheelchair Accessible          3402 non-null int32\n",
      "Wireless Internet              3402 non-null int32\n",
      "dtypes: float64(12), int32(48), int64(9), object(7)\n",
      "memory usage: 1.3+ MB\n",
      "None\n"
     ]
    }
   ],
   "source": [
    "# Binarize each element of the list under the 'amenities' values\n",
    "mlb = MultiLabelBinarizer()\n",
    "df_drop = df_drop.join(pd.DataFrame(mlb.fit_transform(df_drop.pop('amenities')),\n",
    "                          columns=mlb.classes_,\n",
    "                          index=df_drop.index))\n",
    "\n",
    "# Check that change has benn applied\n",
    "print(df_drop.info())\n"
   ]
  },
  {
   "cell_type": "markdown",
   "metadata": {},
   "source": [
    "#### 1.2.10 Remove dollar sign from 'price' and convert it to float"
   ]
  },
  {
   "cell_type": "code",
   "execution_count": 18,
   "metadata": {},
   "outputs": [
    {
     "data": {
      "text/plain": [
       "dtype('float64')"
      ]
     },
     "execution_count": 18,
     "metadata": {},
     "output_type": "execute_result"
    }
   ],
   "source": [
    "# Remove $ sign and convert to float\n",
    "df_drop['price'] = df_drop['price'].str.replace('$', '')\n",
    "df_drop['price'] = df_drop['price'].str.replace(',', '')\n",
    "df_drop['price'] = df_drop['price'].astype('float') \n",
    "df_drop.price.dtype"
   ]
  },
  {
   "cell_type": "markdown",
   "metadata": {},
   "source": [
    "#### 1.2.11 Create dummy variables for the remaining categorical features"
   ]
  },
  {
   "cell_type": "code",
   "execution_count": 19,
   "metadata": {},
   "outputs": [
    {
     "name": "stdout",
     "output_type": "stream",
     "text": [
      "<class 'pandas.core.frame.DataFrame'>\n",
      "RangeIndex: 3402 entries, 0 to 3401\n",
      "Columns: 176 entries, host_response_rate to cancellation_policy_strict\n",
      "dtypes: float64(13), int32(48), int64(9), uint8(106)\n",
      "memory usage: 1.5 MB\n"
     ]
    }
   ],
   "source": [
    "# Copy the dataframe before the dummy variables\n",
    "df_new = df_drop.copy()\n",
    "# Dummy the categorical variables\n",
    "cat_vars = df_drop.select_dtypes(include=['object']).copy().columns\n",
    "for var in  cat_vars:\n",
    "    # for each cat add dummy var, drop original column\n",
    "    df_drop = pd.concat([df_drop.drop(var, axis=1), pd.get_dummies(df_drop[var], prefix=var, prefix_sep='_', drop_first=True)], axis=1)\n",
    "    \n",
    "# Check that change has been applied\n",
    "df_drop.info()"
   ]
  },
  {
   "cell_type": "code",
   "execution_count": 20,
   "metadata": {},
   "outputs": [
    {
     "data": {
      "text/html": [
       "<div>\n",
       "<style scoped>\n",
       "    .dataframe tbody tr th:only-of-type {\n",
       "        vertical-align: middle;\n",
       "    }\n",
       "\n",
       "    .dataframe tbody tr th {\n",
       "        vertical-align: top;\n",
       "    }\n",
       "\n",
       "    .dataframe thead th {\n",
       "        text-align: right;\n",
       "    }\n",
       "</style>\n",
       "<table border=\"1\" class=\"dataframe\">\n",
       "  <thead>\n",
       "    <tr style=\"text-align: right;\">\n",
       "      <th></th>\n",
       "      <th>host_response_rate</th>\n",
       "      <th>host_is_superhost</th>\n",
       "      <th>host_total_listings_count</th>\n",
       "      <th>host_identity_verified</th>\n",
       "      <th>is_location_exact</th>\n",
       "      <th>accommodates</th>\n",
       "      <th>bathrooms</th>\n",
       "      <th>bedrooms</th>\n",
       "      <th>beds</th>\n",
       "      <th>price</th>\n",
       "      <th>...</th>\n",
       "      <th>property_type_Treehouse</th>\n",
       "      <th>property_type_Yurt</th>\n",
       "      <th>room_type_Private room</th>\n",
       "      <th>room_type_Shared room</th>\n",
       "      <th>bed_type_Couch</th>\n",
       "      <th>bed_type_Futon</th>\n",
       "      <th>bed_type_Pull-out Sofa</th>\n",
       "      <th>bed_type_Real Bed</th>\n",
       "      <th>cancellation_policy_moderate</th>\n",
       "      <th>cancellation_policy_strict</th>\n",
       "    </tr>\n",
       "  </thead>\n",
       "  <tbody>\n",
       "    <tr>\n",
       "      <td>0</td>\n",
       "      <td>96</td>\n",
       "      <td>0</td>\n",
       "      <td>3.0</td>\n",
       "      <td>1</td>\n",
       "      <td>1</td>\n",
       "      <td>4</td>\n",
       "      <td>1.0</td>\n",
       "      <td>1</td>\n",
       "      <td>1.0</td>\n",
       "      <td>85.0</td>\n",
       "      <td>...</td>\n",
       "      <td>0</td>\n",
       "      <td>0</td>\n",
       "      <td>0</td>\n",
       "      <td>0</td>\n",
       "      <td>0</td>\n",
       "      <td>0</td>\n",
       "      <td>0</td>\n",
       "      <td>1</td>\n",
       "      <td>1</td>\n",
       "      <td>0</td>\n",
       "    </tr>\n",
       "    <tr>\n",
       "      <td>1</td>\n",
       "      <td>98</td>\n",
       "      <td>1</td>\n",
       "      <td>6.0</td>\n",
       "      <td>1</td>\n",
       "      <td>1</td>\n",
       "      <td>4</td>\n",
       "      <td>1.0</td>\n",
       "      <td>1</td>\n",
       "      <td>1.0</td>\n",
       "      <td>150.0</td>\n",
       "      <td>...</td>\n",
       "      <td>0</td>\n",
       "      <td>0</td>\n",
       "      <td>0</td>\n",
       "      <td>0</td>\n",
       "      <td>0</td>\n",
       "      <td>0</td>\n",
       "      <td>0</td>\n",
       "      <td>1</td>\n",
       "      <td>0</td>\n",
       "      <td>1</td>\n",
       "    </tr>\n",
       "    <tr>\n",
       "      <td>2</td>\n",
       "      <td>67</td>\n",
       "      <td>0</td>\n",
       "      <td>2.0</td>\n",
       "      <td>1</td>\n",
       "      <td>1</td>\n",
       "      <td>11</td>\n",
       "      <td>4.5</td>\n",
       "      <td>5</td>\n",
       "      <td>7.0</td>\n",
       "      <td>975.0</td>\n",
       "      <td>...</td>\n",
       "      <td>0</td>\n",
       "      <td>0</td>\n",
       "      <td>0</td>\n",
       "      <td>0</td>\n",
       "      <td>0</td>\n",
       "      <td>0</td>\n",
       "      <td>0</td>\n",
       "      <td>1</td>\n",
       "      <td>0</td>\n",
       "      <td>1</td>\n",
       "    </tr>\n",
       "    <tr>\n",
       "      <td>3</td>\n",
       "      <td>1</td>\n",
       "      <td>0</td>\n",
       "      <td>1.0</td>\n",
       "      <td>1</td>\n",
       "      <td>1</td>\n",
       "      <td>3</td>\n",
       "      <td>1.0</td>\n",
       "      <td>0</td>\n",
       "      <td>2.0</td>\n",
       "      <td>100.0</td>\n",
       "      <td>...</td>\n",
       "      <td>0</td>\n",
       "      <td>0</td>\n",
       "      <td>0</td>\n",
       "      <td>0</td>\n",
       "      <td>0</td>\n",
       "      <td>0</td>\n",
       "      <td>0</td>\n",
       "      <td>1</td>\n",
       "      <td>0</td>\n",
       "      <td>0</td>\n",
       "    </tr>\n",
       "    <tr>\n",
       "      <td>4</td>\n",
       "      <td>100</td>\n",
       "      <td>0</td>\n",
       "      <td>2.0</td>\n",
       "      <td>1</td>\n",
       "      <td>1</td>\n",
       "      <td>6</td>\n",
       "      <td>2.0</td>\n",
       "      <td>3</td>\n",
       "      <td>3.0</td>\n",
       "      <td>450.0</td>\n",
       "      <td>...</td>\n",
       "      <td>0</td>\n",
       "      <td>0</td>\n",
       "      <td>0</td>\n",
       "      <td>0</td>\n",
       "      <td>0</td>\n",
       "      <td>0</td>\n",
       "      <td>0</td>\n",
       "      <td>1</td>\n",
       "      <td>0</td>\n",
       "      <td>1</td>\n",
       "    </tr>\n",
       "  </tbody>\n",
       "</table>\n",
       "<p>5 rows × 176 columns</p>\n",
       "</div>"
      ],
      "text/plain": [
       "   host_response_rate  host_is_superhost  host_total_listings_count  \\\n",
       "0                  96                  0                        3.0   \n",
       "1                  98                  1                        6.0   \n",
       "2                  67                  0                        2.0   \n",
       "3                   1                  0                        1.0   \n",
       "4                 100                  0                        2.0   \n",
       "\n",
       "   host_identity_verified  is_location_exact  accommodates  bathrooms  \\\n",
       "0                       1                  1             4        1.0   \n",
       "1                       1                  1             4        1.0   \n",
       "2                       1                  1            11        4.5   \n",
       "3                       1                  1             3        1.0   \n",
       "4                       1                  1             6        2.0   \n",
       "\n",
       "   bedrooms  beds  price  ...  property_type_Treehouse  property_type_Yurt  \\\n",
       "0         1   1.0   85.0  ...                        0                   0   \n",
       "1         1   1.0  150.0  ...                        0                   0   \n",
       "2         5   7.0  975.0  ...                        0                   0   \n",
       "3         0   2.0  100.0  ...                        0                   0   \n",
       "4         3   3.0  450.0  ...                        0                   0   \n",
       "\n",
       "   room_type_Private room  room_type_Shared room  bed_type_Couch  \\\n",
       "0                       0                      0               0   \n",
       "1                       0                      0               0   \n",
       "2                       0                      0               0   \n",
       "3                       0                      0               0   \n",
       "4                       0                      0               0   \n",
       "\n",
       "   bed_type_Futon  bed_type_Pull-out Sofa  bed_type_Real Bed  \\\n",
       "0               0                       0                  1   \n",
       "1               0                       0                  1   \n",
       "2               0                       0                  1   \n",
       "3               0                       0                  1   \n",
       "4               0                       0                  1   \n",
       "\n",
       "   cancellation_policy_moderate  cancellation_policy_strict  \n",
       "0                             1                           0  \n",
       "1                             0                           1  \n",
       "2                             0                           1  \n",
       "3                             0                           0  \n",
       "4                             0                           1  \n",
       "\n",
       "[5 rows x 176 columns]"
      ]
     },
     "execution_count": 20,
     "metadata": {},
     "output_type": "execute_result"
    }
   ],
   "source": [
    "# Check dataframe that will be fed to the model\n",
    "df_drop.head()"
   ]
  },
  {
   "cell_type": "markdown",
   "metadata": {},
   "source": [
    "## 1.3 Analyze and model Data"
   ]
  },
  {
   "cell_type": "markdown",
   "metadata": {},
   "source": [
    "### 1.3.1 What are the characteristics of a home that influence the price most and what is the importance of these characteristics?"
   ]
  },
  {
   "cell_type": "markdown",
   "metadata": {},
   "source": [
    "#### 1.3.1a Select the 15 most important features that influence price"
   ]
  },
  {
   "cell_type": "code",
   "execution_count": 21,
   "metadata": {},
   "outputs": [
    {
     "name": "stderr",
     "output_type": "stream",
     "text": [
      "C:\\Users\\Fotis\\Anaconda3\\lib\\site-packages\\sklearn\\ensemble\\forest.py:245: FutureWarning: The default value of n_estimators will change from 10 in version 0.20 to 100 in 0.22.\n",
      "  \"10 in version 0.20 to 100 in 0.22.\", FutureWarning)\n"
     ]
    },
    {
     "name": "stdout",
     "output_type": "stream",
     "text": [
      "[1.61839742e-02 1.00369497e-02 2.14264459e-02 1.22977633e-02\n",
      " 1.66575994e-03 2.18429476e-02 1.36082183e-02 1.62620866e-02\n",
      " 1.77686511e-02 1.77272015e-02 1.94169957e-02 2.03865765e-02\n",
      " 1.91097816e-02 2.36139239e-02 2.40316958e-02 2.56158686e-02\n",
      " 2.71922564e-02 2.77078550e-02 2.49308398e-02 1.52306051e-02\n",
      " 1.65848758e-02 1.26619300e-02 1.21926803e-02 1.83149596e-02\n",
      " 1.88145613e-02 8.92710901e-03 2.91512330e-02 4.07939502e-04\n",
      " 7.61554987e-03 1.03149835e-02 5.31922408e-03 6.72712830e-03\n",
      " 1.15676051e-02 1.36952208e-02 6.85258662e-03 7.71525530e-03\n",
      " 2.27010779e-03 8.64008702e-03 5.71276632e-03 8.95171743e-03\n",
      " 1.34260311e-02 1.39019732e-02 1.51654461e-02 1.49515947e-02\n",
      " 4.62044762e-03 6.36727211e-03 7.80268392e-03 3.08762063e-03\n",
      " 5.34519263e-03 1.16980565e-02 1.09468332e-02 7.10592576e-03\n",
      " 5.98562547e-03 7.64361152e-03 2.26742039e-03 1.30051376e-03\n",
      " 7.89488723e-03 9.51087053e-03 1.74467397e-03 1.12973870e-02\n",
      " 1.32055581e-02 7.68037672e-03 1.82114640e-03 4.05849403e-03\n",
      " 1.32287441e-02 9.49735285e-03 2.99057047e-05 5.01343759e-03\n",
      " 2.48510868e-03 8.93893694e-03 1.18797221e-02 1.39374335e-02\n",
      " 2.68461936e-04 1.71216009e-03 5.27884514e-03 3.49299065e-03\n",
      " 4.52010283e-04 2.77195707e-04 7.40206166e-04 1.79719948e-04\n",
      " 1.04548281e-03 7.69469830e-03 2.06820675e-04 2.46134525e-03\n",
      " 1.92198681e-03 8.86323873e-04 4.15696045e-04 1.96080757e-03\n",
      " 0.00000000e+00 3.19479159e-04 2.86381162e-03 4.01162182e-03\n",
      " 5.81363801e-04 1.16125908e-03 1.82181975e-04 1.71864387e-03\n",
      " 2.29901634e-03 2.72608283e-04 4.15663403e-04 5.36161185e-04\n",
      " 2.76893721e-04 4.27488330e-04 0.00000000e+00 1.57423274e-04\n",
      " 7.57877397e-04 1.98605416e-04 1.23531490e-03 4.61215696e-04\n",
      " 2.66886926e-03 4.09566334e-04 1.30434194e-03 1.79810921e-03\n",
      " 9.90521175e-04 6.17778473e-04 2.79263415e-04 5.40908800e-03\n",
      " 6.83936585e-04 1.82488498e-03 1.20443936e-03 4.34989204e-04\n",
      " 3.01540808e-03 0.00000000e+00 9.56477966e-04 3.23093622e-04\n",
      " 2.21874132e-03 6.41978101e-05 1.22016994e-03 4.98428412e-05\n",
      " 3.95139197e-04 5.24135621e-04 5.51795991e-03 6.18818525e-04\n",
      " 1.98944420e-03 2.63371946e-04 1.29286254e-03 3.18994184e-05\n",
      " 3.16224403e-04 9.57764289e-04 6.05698875e-05 2.31554076e-04\n",
      " 9.44813945e-04 6.42260611e-05 2.84453697e-03 1.04810419e-03\n",
      " 3.47330462e-03 8.05514571e-04 1.95266660e-04 4.51133925e-03\n",
      " 4.87006071e-04 3.14662445e-04 2.43491354e-04 6.51871527e-04\n",
      " 7.87337569e-04 1.49369926e-04 3.85624363e-04 4.22528168e-04\n",
      " 2.50741813e-04 9.23976704e-05 2.00693031e-03 6.07176429e-05\n",
      " 1.04747753e-02 1.21502482e-03 3.81160967e-04 5.17427624e-04\n",
      " 2.59725059e-03 0.00000000e+00 0.00000000e+00 8.76025445e-03\n",
      " 3.09715595e-03 2.19637548e-04 2.06659729e-03 1.07332811e-03\n",
      " 2.92823215e-03 1.03224004e-02 9.72792441e-03]\n"
     ]
    },
    {
     "data": {
      "image/png": "[encoded data removed]",
      "text/plain": [
       "<Figure size 432x288 with 1 Axes>"
      ]
     },
     "metadata": {
      "needs_background": "light"
     },
     "output_type": "display_data"
    }
   ],
   "source": [
    "X = df_drop.loc[:, df_drop.columns != 'price'];\n",
    "y = df_drop.price;\n",
    "\n",
    "model = ExtraTreesClassifier();\n",
    "model.fit(X,y);\n",
    "print(model.feature_importances_); #use inbuilt class feature_importances of tree based classifiers\n",
    "\n",
    "#plot graph of feature importances for better visualization\n",
    "feat_importances = pd.Series(model.feature_importances_, index=X.columns);\n",
    "feat_importances.nlargest(15).plot(kind='barh');\n",
    "\n"
   ]
  },
  {
   "cell_type": "markdown",
   "metadata": {},
   "source": [
    "#### 1.3.1b Build and fit a model that predicts price based on the important features from above and evaluate with the metric r2_score\n"
   ]
  },
  {
   "cell_type": "code",
   "execution_count": 22,
   "metadata": {},
   "outputs": [
    {
     "data": {
      "text/plain": [
       "0.5106087340988894"
      ]
     },
     "execution_count": 22,
     "metadata": {},
     "output_type": "execute_result"
    }
   ],
   "source": [
    "feats = feat_importances.nlargest(15).index\n",
    "\n",
    "X_2 = df_drop[feats]\n",
    "y_2 = df_drop['price']\n",
    "\n",
    "# Split data into training and test data, and fit a linear model\n",
    "X_2_train, X_2_test, y_2_train, y_2_test = train_test_split(X_2, y_2 , test_size=.30, random_state=42)\n",
    "lm_model = LinearRegression(normalize=True)\n",
    "lm_model.fit(X_2_train, y_2_train)\n",
    "\n",
    "y_test_preds = lm_model.predict(X_2_test)# Predictions here\n",
    "r2_test = r2_score(y_2_test, y_test_preds) # Rsquared here\n",
    "\n",
    "# Print r2 to see result\n",
    "r2_test\n"
   ]
  },
  {
   "cell_type": "markdown",
   "metadata": {},
   "source": [
    "#### 1.3.1c Get coefficient for each feature"
   ]
  },
  {
   "cell_type": "code",
   "execution_count": 23,
   "metadata": {},
   "outputs": [
    {
     "data": {
      "text/html": [
       "<div>\n",
       "<style scoped>\n",
       "    .dataframe tbody tr th:only-of-type {\n",
       "        vertical-align: middle;\n",
       "    }\n",
       "\n",
       "    .dataframe tbody tr th {\n",
       "        vertical-align: top;\n",
       "    }\n",
       "\n",
       "    .dataframe thead th {\n",
       "        text-align: right;\n",
       "    }\n",
       "</style>\n",
       "<table border=\"1\" class=\"dataframe\">\n",
       "  <thead>\n",
       "    <tr style=\"text-align: right;\">\n",
       "      <th></th>\n",
       "      <th>est_int</th>\n",
       "      <th>coefs</th>\n",
       "      <th>abs_coefs</th>\n",
       "    </tr>\n",
       "  </thead>\n",
       "  <tbody>\n",
       "    <tr>\n",
       "      <td>7</td>\n",
       "      <td>accommodates</td>\n",
       "      <td>24.798453</td>\n",
       "      <td>24.798453</td>\n",
       "    </tr>\n",
       "    <tr>\n",
       "      <td>13</td>\n",
       "      <td>review_scores_location</td>\n",
       "      <td>18.226679</td>\n",
       "      <td>18.226679</td>\n",
       "    </tr>\n",
       "    <tr>\n",
       "      <td>12</td>\n",
       "      <td>review_scores_value</td>\n",
       "      <td>-13.307598</td>\n",
       "      <td>13.307598</td>\n",
       "    </tr>\n",
       "    <tr>\n",
       "      <td>14</td>\n",
       "      <td>beds</td>\n",
       "      <td>6.210793</td>\n",
       "      <td>6.210793</td>\n",
       "    </tr>\n",
       "    <tr>\n",
       "      <td>0</td>\n",
       "      <td>reviews_per_month</td>\n",
       "      <td>-6.008563</td>\n",
       "      <td>6.008563</td>\n",
       "    </tr>\n",
       "    <tr>\n",
       "      <td>4</td>\n",
       "      <td>review_scores_rating</td>\n",
       "      <td>1.822371</td>\n",
       "      <td>1.822371</td>\n",
       "    </tr>\n",
       "    <tr>\n",
       "      <td>10</td>\n",
       "      <td>extra_people</td>\n",
       "      <td>0.220572</td>\n",
       "      <td>0.220572</td>\n",
       "    </tr>\n",
       "    <tr>\n",
       "      <td>5</td>\n",
       "      <td>availability_60</td>\n",
       "      <td>0.212610</td>\n",
       "      <td>0.212610</td>\n",
       "    </tr>\n",
       "    <tr>\n",
       "      <td>3</td>\n",
       "      <td>availability_90</td>\n",
       "      <td>-0.169479</td>\n",
       "      <td>0.169479</td>\n",
       "    </tr>\n",
       "    <tr>\n",
       "      <td>8</td>\n",
       "      <td>host_total_listings_count</td>\n",
       "      <td>0.040101</td>\n",
       "      <td>0.040101</td>\n",
       "    </tr>\n",
       "    <tr>\n",
       "      <td>1</td>\n",
       "      <td>number_of_reviews</td>\n",
       "      <td>-0.032861</td>\n",
       "      <td>0.032861</td>\n",
       "    </tr>\n",
       "    <tr>\n",
       "      <td>6</td>\n",
       "      <td>availability_30</td>\n",
       "      <td>-0.017950</td>\n",
       "      <td>0.017950</td>\n",
       "    </tr>\n",
       "    <tr>\n",
       "      <td>2</td>\n",
       "      <td>availability_365</td>\n",
       "      <td>0.010683</td>\n",
       "      <td>0.010683</td>\n",
       "    </tr>\n",
       "    <tr>\n",
       "      <td>9</td>\n",
       "      <td>minimum_nights</td>\n",
       "      <td>0.005557</td>\n",
       "      <td>0.005557</td>\n",
       "    </tr>\n",
       "    <tr>\n",
       "      <td>11</td>\n",
       "      <td>maximum_nights</td>\n",
       "      <td>-0.000291</td>\n",
       "      <td>0.000291</td>\n",
       "    </tr>\n",
       "  </tbody>\n",
       "</table>\n",
       "</div>"
      ],
      "text/plain": [
       "                      est_int      coefs  abs_coefs\n",
       "7                accommodates  24.798453  24.798453\n",
       "13     review_scores_location  18.226679  18.226679\n",
       "12        review_scores_value -13.307598  13.307598\n",
       "14                       beds   6.210793   6.210793\n",
       "0           reviews_per_month  -6.008563   6.008563\n",
       "4        review_scores_rating   1.822371   1.822371\n",
       "10               extra_people   0.220572   0.220572\n",
       "5             availability_60   0.212610   0.212610\n",
       "3             availability_90  -0.169479   0.169479\n",
       "8   host_total_listings_count   0.040101   0.040101\n",
       "1           number_of_reviews  -0.032861   0.032861\n",
       "6             availability_30  -0.017950   0.017950\n",
       "2            availability_365   0.010683   0.010683\n",
       "9              minimum_nights   0.005557   0.005557\n",
       "11             maximum_nights  -0.000291   0.000291"
      ]
     },
     "execution_count": 23,
     "metadata": {},
     "output_type": "execute_result"
    }
   ],
   "source": [
    "def coef_weights(coefficients, X_train):\n",
    "    '''\n",
    "    INPUT:\n",
    "    coefficients - the coefficients of the linear model \n",
    "    X_2_train - the training data, so the column names can be used\n",
    "    OUTPUT:\n",
    "    coefs_df - a dataframe holding the coefficient, estimate, and abs(estimate)\n",
    "    \n",
    "    Provides a dataframe that can be used to understand the most influential coefficients\n",
    "    in a linear model by providing the coefficient estimates along with the name of the \n",
    "    variable attached to the coefficient.\n",
    "    '''\n",
    "    coefs_df = pd.DataFrame()\n",
    "    coefs_df['est_int'] = X_2_train.columns\n",
    "    coefs_df['coefs'] = lm_model.coef_\n",
    "    coefs_df['abs_coefs'] = np.abs(lm_model.coef_)\n",
    "    coefs_df = coefs_df.sort_values('abs_coefs', ascending=False)\n",
    "    return coefs_df\n",
    "\n",
    "#Use the function\n",
    "coef_df = coef_weights(lm_model.coef_, X_2_train)\n",
    "\n",
    "#A quick look at the top results\n",
    "coef_df.head(20)"
   ]
  },
  {
   "cell_type": "markdown",
   "metadata": {},
   "source": [
    "### 1.3.2 What is the average price of a home based on the number of people it can accomodate?"
   ]
  },
  {
   "cell_type": "code",
   "execution_count": 24,
   "metadata": {},
   "outputs": [
    {
     "data": {
      "text/plain": [
       "(0, 4]     2709\n",
       "(4, 8]      631\n",
       "(8, 16]      62\n",
       "Name: acc_bins, dtype: int64"
      ]
     },
     "execution_count": 24,
     "metadata": {},
     "output_type": "execute_result"
    }
   ],
   "source": [
    "# First, I split the nr. of people a property can accommodate in bins\n",
    "df_new['acc_bins'] = pd.cut(x=df_new['accommodates'], bins=[0, 4, 8, 16])\n",
    "df_new.acc_bins.value_counts()"
   ]
  },
  {
   "cell_type": "code",
   "execution_count": 25,
   "metadata": {},
   "outputs": [
    {
     "data": {
      "text/html": [
       "<div>\n",
       "<style scoped>\n",
       "    .dataframe tbody tr th:only-of-type {\n",
       "        vertical-align: middle;\n",
       "    }\n",
       "\n",
       "    .dataframe tbody tr th {\n",
       "        vertical-align: top;\n",
       "    }\n",
       "\n",
       "    .dataframe thead th {\n",
       "        text-align: right;\n",
       "    }\n",
       "</style>\n",
       "<table border=\"1\" class=\"dataframe\">\n",
       "  <thead>\n",
       "    <tr style=\"text-align: right;\">\n",
       "      <th></th>\n",
       "      <th>acc_bins</th>\n",
       "      <th>price</th>\n",
       "    </tr>\n",
       "  </thead>\n",
       "  <tbody>\n",
       "    <tr>\n",
       "      <td>0</td>\n",
       "      <td>(0, 4]</td>\n",
       "      <td>104.524917</td>\n",
       "    </tr>\n",
       "    <tr>\n",
       "      <td>1</td>\n",
       "      <td>(4, 8]</td>\n",
       "      <td>211.104596</td>\n",
       "    </tr>\n",
       "    <tr>\n",
       "      <td>2</td>\n",
       "      <td>(8, 16]</td>\n",
       "      <td>378.338710</td>\n",
       "    </tr>\n",
       "  </tbody>\n",
       "</table>\n",
       "</div>"
      ],
      "text/plain": [
       "  acc_bins       price\n",
       "0   (0, 4]  104.524917\n",
       "1   (4, 8]  211.104596\n",
       "2  (8, 16]  378.338710"
      ]
     },
     "execution_count": 25,
     "metadata": {},
     "output_type": "execute_result"
    }
   ],
   "source": [
    "df_acc = df_new.groupby(['acc_bins'],as_index=False).price.mean()\n",
    "df_acc"
   ]
  },
  {
   "cell_type": "code",
   "execution_count": 26,
   "metadata": {},
   "outputs": [
    {
     "data": {
      "text/plain": [
       "CategoricalIndex([(8, 16], (4, 8], (0, 4]], categories=[(0, 4], (4, 8], (8, 16]], ordered=True, name='acc_bins', dtype='category')"
      ]
     },
     "execution_count": 26,
     "metadata": {},
     "output_type": "execute_result"
    }
   ],
   "source": [
    "# Sort the order of nr. of people that a home can accommodate by descending price\n",
    "price_means = df_acc.groupby('acc_bins').mean()\n",
    "acc_order = price_means.sort_values('price', ascending = False).index\n",
    "acc_order"
   ]
  },
  {
   "cell_type": "code",
   "execution_count": 28,
   "metadata": {},
   "outputs": [
    {
     "data": {
      "image/png": "[encoded data removed]",
      "text/plain": [
       "<Figure size 432x288 with 1 Axes>"
      ]
     },
     "metadata": {
      "needs_background": "light"
     },
     "output_type": "display_data"
    }
   ],
   "source": [
    "base_color = sb.color_palette()[0]\n",
    "sb.barplot(data = df_acc, x = 'acc_bins', y = 'price',\n",
    "color = base_color, order = acc_order, ci = 'sd');\n",
    "plt.xlabel('Nr. of persons the home accommodates');"
   ]
  },
  {
   "cell_type": "markdown",
   "metadata": {},
   "source": [
    "### 1.3.3 What are the top 10 neighbourhoods in regards with the mean price a home can have?"
   ]
  },
  {
   "cell_type": "code",
   "execution_count": 43,
   "metadata": {},
   "outputs": [
    {
     "data": {
      "text/html": [
       "<div>\n",
       "<style scoped>\n",
       "    .dataframe tbody tr th:only-of-type {\n",
       "        vertical-align: middle;\n",
       "    }\n",
       "\n",
       "    .dataframe tbody tr th {\n",
       "        vertical-align: top;\n",
       "    }\n",
       "\n",
       "    .dataframe thead th {\n",
       "        text-align: right;\n",
       "    }\n",
       "</style>\n",
       "<table border=\"1\" class=\"dataframe\">\n",
       "  <thead>\n",
       "    <tr style=\"text-align: right;\">\n",
       "      <th></th>\n",
       "      <th>neighbourhood</th>\n",
       "      <th>price</th>\n",
       "    </tr>\n",
       "  </thead>\n",
       "  <tbody>\n",
       "    <tr>\n",
       "      <td>17</td>\n",
       "      <td>Fairmount Park</td>\n",
       "      <td>370.000000</td>\n",
       "    </tr>\n",
       "    <tr>\n",
       "      <td>31</td>\n",
       "      <td>Industrial District</td>\n",
       "      <td>245.000000</td>\n",
       "    </tr>\n",
       "    <tr>\n",
       "      <td>58</td>\n",
       "      <td>Portage Bay</td>\n",
       "      <td>241.428571</td>\n",
       "    </tr>\n",
       "    <tr>\n",
       "      <td>78</td>\n",
       "      <td>Westlake</td>\n",
       "      <td>197.000000</td>\n",
       "    </tr>\n",
       "    <tr>\n",
       "      <td>0</td>\n",
       "      <td>Alki</td>\n",
       "      <td>196.652174</td>\n",
       "    </tr>\n",
       "    <tr>\n",
       "      <td>45</td>\n",
       "      <td>Montlake</td>\n",
       "      <td>195.947368</td>\n",
       "    </tr>\n",
       "    <tr>\n",
       "      <td>40</td>\n",
       "      <td>Magnolia</td>\n",
       "      <td>176.000000</td>\n",
       "    </tr>\n",
       "    <tr>\n",
       "      <td>55</td>\n",
       "      <td>Pike Place Market</td>\n",
       "      <td>175.512821</td>\n",
       "    </tr>\n",
       "    <tr>\n",
       "      <td>79</td>\n",
       "      <td>Windermere</td>\n",
       "      <td>174.700000</td>\n",
       "    </tr>\n",
       "    <tr>\n",
       "      <td>59</td>\n",
       "      <td>Queen Anne</td>\n",
       "      <td>168.764706</td>\n",
       "    </tr>\n",
       "  </tbody>\n",
       "</table>\n",
       "</div>"
      ],
      "text/plain": [
       "          neighbourhood       price\n",
       "17       Fairmount Park  370.000000\n",
       "31  Industrial District  245.000000\n",
       "58          Portage Bay  241.428571\n",
       "78             Westlake  197.000000\n",
       "0                  Alki  196.652174\n",
       "45             Montlake  195.947368\n",
       "40             Magnolia  176.000000\n",
       "55    Pike Place Market  175.512821\n",
       "79           Windermere  174.700000\n",
       "59           Queen Anne  168.764706"
      ]
     },
     "execution_count": 43,
     "metadata": {},
     "output_type": "execute_result"
    }
   ],
   "source": [
    "# Create a dataframe that displays the top 10 neighbourhoods in regards with the max average price a home can have\n",
    "df_neigh = df_new.groupby(['neighbourhood'],as_index=False).price.mean().sort_values('price', ascending = False)[:10]\n",
    "df_neigh"
   ]
  },
  {
   "cell_type": "code",
   "execution_count": 49,
   "metadata": {},
   "outputs": [
    {
     "data": {
      "image/png": "[encoded data removed]",
      "text/plain": [
       "<Figure size 432x288 with 1 Axes>"
      ]
     },
     "metadata": {
      "needs_background": "light"
     },
     "output_type": "display_data"
    }
   ],
   "source": [
    "# Create barchart that shows the average price of the top 10 neighbourhoods\n",
    "g = sb.barplot(data = df_neigh, x = 'neighbourhood', y = 'price',color = base_color, ci = 'sd');\n",
    "plt.xlabel('Neighbourhood');\n",
    "plt.xticks(rotation=45);"
   ]
  },
  {
   "cell_type": "code",
   "execution_count": null,
   "metadata": {},
   "outputs": [],
   "source": []
  },
  {
   "cell_type": "code",
   "execution_count": null,
   "metadata": {},
   "outputs": [],
   "source": []
  }
 ],
 "metadata": {
  "kernelspec": {
   "display_name": "Python 3",
   "language": "python",
   "name": "python3"
  },
  "language_info": {
   "codemirror_mode": {
    "name": "ipython",
    "version": 3
   },
   "file_extension": ".py",
   "mimetype": "text/x-python",
   "name": "python",
   "nbconvert_exporter": "python",
   "pygments_lexer": "ipython3",
   "version": "3.7.4"
  }
 },
 "nbformat": 4,
 "nbformat_minor": 2
}
